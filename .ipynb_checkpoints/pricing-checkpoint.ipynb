{
 "cells": [
  {
   "cell_type": "code",
   "execution_count": 15,
   "metadata": {
    "collapsed": false
   },
   "outputs": [],
   "source": [
    "# HUGE shout out to https://www.kaggle.com/headsortails/pytanic for the guide. Extremely in depth feature decomposition\n",
    "#%matplotlib inline\n",
    "\n",
    "# for seaborn issue:\n",
    "import warnings\n",
    "warnings.filterwarnings(\"ignore\")\n",
    "\n",
    "import pandas as pd\n",
    "import numpy as np\n",
    "from scipy import stats\n",
    "import sklearn as sk\n",
    "import itertools\n",
    "from re import sub\n",
    "from decimal import Decimal\n",
    "import matplotlib.pyplot as plt\n",
    "import matplotlib.gridspec as gridspec\n",
    "from mpl_toolkits.mplot3d import Axes3D\n",
    "import seaborn as sns\n",
    "from statsmodels.graphics.mosaicplot import mosaic\n",
    "import pickle\n",
    "\n",
    "from sklearn.linear_model import LogisticRegression\n",
    "from sklearn.linear_model import Perceptron\n",
    "from sklearn import tree\n",
    "from sklearn import linear_model\n",
    "from sklearn.ensemble import GradientBoostingRegressor\n",
    "from sklearn import svm\n",
    "\n",
    "from sklearn.model_selection import cross_val_score\n",
    "from sklearn.model_selection import KFold\n",
    "from sklearn.metrics import confusion_matrix\n",
    "from sklearn.model_selection import train_test_split\n",
    "from sklearn.model_selection import GridSearchCV\n",
    "\n",
    "sns.set(style='white', context='notebook', palette='deep')"
   ]
  },
  {
   "cell_type": "code",
   "execution_count": 16,
   "metadata": {
    "collapsed": false,
    "scrolled": true
   },
   "outputs": [],
   "source": [
    "data = pd.read_csv('./Economics/Real Estate/Airbnb Seattle Listings/listings.csv')"
   ]
  },
  {
   "cell_type": "code",
   "execution_count": 17,
   "metadata": {
    "collapsed": false
   },
   "outputs": [],
   "source": [
    "features = ['neighbourhood', 'property_type','longitude','latitude', 'room_type', 'accommodates', 'bathrooms', 'bedrooms', 'beds', 'bed_type', 'amenities', 'price', 'require_guest_profile_picture', 'calculated_host_listings_count', 'review_scores_rating']\n",
    "\n",
    "area_map = {\n",
    "    \"Wedgwood\": \"Wedgewood\",\n",
    "    \"North Queen Anne\": \"Queen Anne\",\n",
    "    \"East Queen Anne\": \"Queen Anne\",\n",
    "    \"West Queen Anne\": \"Queen Anne\",\n",
    "    \"South Queen Anne\": \"Queen Anne\",\n",
    "    \"Broadway\": \"Capitol Hill\",\n",
    "    \"Adams\": \"Ballard\",\n",
    "    \"Briarcliff\": \"Magnolia\",\n",
    "    \"Loyal Heights\": \"Ballard\",\n",
    "    \"Mann\": \"Minor\",\n",
    "    \"Mid-Beacon Hill\": \"North Beacon Hill\",\n",
    "    \"Pike-Market\": \"Pike Place Market\",\n",
    "    \"Southeast Magnolia\": \"Magnolia\",\n",
    "    \"Sunset Hill\": \"Ballard\",\n",
    "    \"West Woodland\": \"Ballard\",\n",
    "    \"Whittier Heights\": \"Ballard\"\n",
    "}\n",
    "\n",
    "def apply(x):\n",
    "    try:\n",
    "        return area_map[x]\n",
    "    except KeyError:\n",
    "        return x\n",
    "\n",
    "data[\"neighbourhood\"] = data[\"neighbourhood\"].fillna(data[\"neighbourhood\"])\n",
    "data['neighbourhood'] = data['neighbourhood'].apply(apply)\n",
    "\n",
    "df = data[features]\n",
    "df = df.loc[df['review_scores_rating'].notnull()]"
   ]
  },
  {
   "cell_type": "code",
   "execution_count": 18,
   "metadata": {
    "collapsed": false
   },
   "outputs": [],
   "source": [
    "field_index_mapping = {\n",
    "    \"neighbourhood\": \"neighbourhood_indexed\",\n",
    "    \"property_type\": \"property_indexed\",\n",
    "    \"room_type\": \"room_indexed\",\n",
    "    \"bed_type\": \"bed_indexed\",\n",
    "    \"require_guest_profile_picture\": \"require_guest_profile_picture\"\n",
    "}\n",
    "for field in [\"neighbourhood\", \"property_type\", \"room_type\", \"bed_type\", \"require_guest_profile_picture\"]:\n",
    "    val_types = df[field].unique()\n",
    "    val_map = dict.fromkeys(val_types)\n",
    "    for i, el in enumerate(val_types):\n",
    "        val_map[el] = i\n",
    "    df[field_index_mapping[field]] = df[field].map(val_map)"
   ]
  },
  {
   "cell_type": "code",
   "execution_count": 19,
   "metadata": {
    "collapsed": false
   },
   "outputs": [],
   "source": [
    "for types in [\"bathrooms\", \"bedrooms\", \"beds\"]:\n",
    "    df[types] = df[types].apply(lambda x: 1 if np.isnan(x) else x)\n",
    "    df[types] = df[types].astype(int)"
   ]
  },
  {
   "cell_type": "code",
   "execution_count": 20,
   "metadata": {
    "collapsed": false
   },
   "outputs": [],
   "source": [
    "df[\"price\"] = df[\"price\"].apply(lambda x: float(Decimal(sub(r'[^\\d.]', '', x))))"
   ]
  },
  {
   "cell_type": "code",
   "execution_count": 21,
   "metadata": {
    "collapsed": false
   },
   "outputs": [],
   "source": [
    "def parse_amenity(s):\n",
    "    s = s[2:-2]\n",
    "    s = s.replace('\"', '')\n",
    "    res = s.split(\",\")\n",
    "    return len(res)\n",
    "    print(len(res))\n",
    "parse_amenity(df[\"amenities\"][13])\n",
    "\n",
    "df['amen_count'] = df[\"amenities\"].map(parse_amenity)\n"
   ]
  },
  {
   "cell_type": "code",
   "execution_count": 22,
   "metadata": {
    "collapsed": false
   },
   "outputs": [],
   "source": [
    "drop_features = ['neighbourhood', 'property_type', 'room_type', 'bed_type', 'amenities', 'require_guest_profile_picture', 'calculated_host_listings_count']\n",
    "train_input = df.drop(drop_features, axis=1)"
   ]
  },
  {
   "cell_type": "code",
   "execution_count": 23,
   "metadata": {
    "collapsed": false
   },
   "outputs": [
    {
     "name": "stdout",
     "output_type": "stream",
     "text": [
      "   bedrooms       price\n",
      "0         0  102.843648\n",
      "1         1   94.996038\n",
      "2         2  171.467167\n",
      "3         3  252.466102\n",
      "4         4  310.750000\n",
      "5         5  455.529412\n",
      "6         6  578.166667\n",
      "7         7  375.000000\n"
     ]
    },
    {
     "data": {
      "image/png": "[encoded data removed]",
      "text/plain": [
       "<matplotlib.figure.Figure at 0x1d71cf90e48>"
      ]
     },
     "metadata": {},
     "output_type": "display_data"
    }
   ],
   "source": [
    "listings = train_input\n",
    "\n",
    "bed_price = listings[['bedrooms', 'price']].groupby(['bedrooms'], as_index=False).mean()\n",
    "bath_price = listings[['bathrooms', 'price']].groupby(['bathrooms'], as_index=False).mean()\n",
    "amen_price = listings[['amen_count', 'price']].groupby(['amen_count'], as_index=False).mean()\n",
    "\n",
    "bed_bath_price = listings[['bedrooms', 'bathrooms', 'price']].groupby(['bedrooms','bathrooms'], as_index=False).mean()\n",
    "\n",
    "print(bed_price)\n",
    "\n",
    "sns.set(style='white', context='notebook', palette='deep')\n",
    "plt.figure()\n",
    "\n",
    "plt.subplot(332)\n",
    "sns.barplot('bedrooms', 'price', data=bed_price)\n",
    "\n",
    "plt.subplot(333)\n",
    "sns.barplot('bathrooms', 'price', data=bath_price)\n",
    "\n",
    "plt.subplot(334)\n",
    "sns.barplot('amen_count', 'price', data=amen_price)\n",
    "plt.show()"
   ]
  },
  {
   "cell_type": "code",
   "execution_count": 28,
   "metadata": {
    "collapsed": false
   },
   "outputs": [
    {
     "name": "stdout",
     "output_type": "stream",
     "text": [
      "<class 'pandas.core.frame.DataFrame'>\n",
      "Int64Index: 3171 entries, 0 to 3814\n",
      "Data columns (total 12 columns):\n",
      "longitude                3171 non-null float64\n",
      "latitude                 3171 non-null float64\n",
      "accommodates             3171 non-null int64\n",
      "bathrooms                3171 non-null int32\n",
      "bedrooms                 3171 non-null int32\n",
      "beds                     3171 non-null int32\n",
      "review_scores_rating     3171 non-null float64\n",
      "neighbourhood_indexed    3171 non-null int64\n",
      "property_indexed         3171 non-null int64\n",
      "room_indexed             3171 non-null int64\n",
      "bed_indexed              3171 non-null int64\n",
      "amen_count               3171 non-null int64\n",
      "dtypes: float64(3), int32(3), int64(6)\n",
      "memory usage: 444.9 KB\n",
      "None\n",
      "Number of Training Samples: 2378\n",
      "Number of features: 12\n"
     ]
    }
   ],
   "source": [
    "x = listings.drop(['price'], axis=1)\n",
    "y = listings['price']\n",
    "print(x.info())\n",
    "x_train, x_test, y_train, y_test = train_test_split(x, y, test_size=0.25)\n",
    "\n",
    "print(\"Number of Training Samples: \" + str(x_train.shape[0]))\n",
    "print(\"Number of features: \" + str(x_train.shape[1]))"
   ]
  },
  {
   "cell_type": "code",
   "execution_count": 25,
   "metadata": {
    "collapsed": false
   },
   "outputs": [
    {
     "name": "stdout",
     "output_type": "stream",
     "text": [
      "Accuracy on training set: 0.832\n",
      "Accuracy on training set: 0.599\n"
     ]
    }
   ],
   "source": [
    "#Training the classifier\n",
    "clf = GradientBoostingRegressor(learning_rate=0.25, max_depth=3, loss='ls', n_estimators=100)\n",
    "\n",
    "clf.fit(x_train, y_train)\n",
    "print(\"Accuracy on training set: {:.3f}\".format(clf.score(x_train, y_train)))\n",
    "print(\"Accuracy on training set: {:.3f}\".format(clf.score(x_test, y_test)))"
   ]
  },
  {
   "cell_type": "code",
   "execution_count": 26,
   "metadata": {
    "collapsed": false
   },
   "outputs": [
    {
     "name": "stdout",
     "output_type": "stream",
     "text": [
      "[ 202.17772441  130.23923217  295.97646691  276.16224005   66.61893694\n",
      "  214.30952828  103.88381267  403.11617596  110.608805     96.18675425]\n",
      "1319    143.0\n",
      "1161    119.0\n",
      "3057    252.0\n",
      "1736    240.0\n",
      "599      90.0\n",
      "1492    200.0\n",
      "2630     99.0\n",
      "730     350.0\n",
      "2431    130.0\n",
      "3531     65.0\n",
      "Name: price, dtype: float64\n"
     ]
    }
   ],
   "source": [
    "pred = clf.predict(x_test[0:10])\n",
    "print(pred)\n",
    "print(y_test[0:10])"
   ]
  },
  {
   "cell_type": "code",
   "execution_count": 27,
   "metadata": {
    "collapsed": true
   },
   "outputs": [],
   "source": [
    "with open('gbr.pickle', 'wb') as handle:\n",
    "    pickle.dump(clf, handle, protocol=pickle.HIGHEST_PROTOCOL)"
   ]
  },
  {
   "cell_type": "code",
   "execution_count": null,
   "metadata": {
    "collapsed": true
   },
   "outputs": [],
   "source": []
  }
 ],
 "metadata": {
  "kernelspec": {
   "display_name": "Python 3",
   "language": "python",
   "name": "python3"
  },
  "language_info": {
   "codemirror_mode": {
    "name": "ipython",
    "version": 3
   },
   "file_extension": ".py",
   "mimetype": "text/x-python",
   "name": "python",
   "nbconvert_exporter": "python",
   "pygments_lexer": "ipython3",
   "version": "3.5.2"
  }
 },
 "nbformat": 4,
 "nbformat_minor": 2
}
